{
  "nbformat": 4,
  "nbformat_minor": 0,
  "metadata": {
    "colab": {
      "name": "Python Assignment 1.ipynb",
      "provenance": [],
      "mount_file_id": "1a-REJY2VVLgH3jjdqBi1Z-ZmKa7O7zNR",
      "authorship_tag": "ABX9TyPmLa5MtxL3rFyHlysZ9xdC",
      "include_colab_link": true
    },
    "kernelspec": {
      "name": "python3",
      "display_name": "Python 3"
    }
  },
  "cells": [
    {
      "cell_type": "markdown",
      "metadata": {
        "id": "view-in-github",
        "colab_type": "text"
      },
      "source": [
        "<a href=\"https://colab.research.google.com/github/shashvindu/ineuron-assignment/blob/main/Python_Assignment_1.ipynb\" target=\"_parent\"><img src=\"https://colab.research.google.com/assets/colab-badge.svg\" alt=\"Open In Colab\"/></a>"
      ]
    },
    {
      "cell_type": "markdown",
      "metadata": {
        "id": "_AeQ9h7sbwfr"
      },
      "source": [
        "\r\n",
        "1. Write a program which will find all such numbers which are divisible by 7 but are not a multiple of 5, between 2000 and 3200 (both included). The numbers obtained should be printed\r\n",
        "in a comma-separated sequence on a single line.\r\n"
      ]
    },
    {
      "cell_type": "code",
      "metadata": {
        "colab": {
          "base_uri": "https://localhost:8080/"
        },
        "id": "vOlMWzetabsX",
        "outputId": "e6ae5442-0ee3-4a31-cfcf-fe5fa79cf814"
      },
      "source": [
        "nl=[]\r\n",
        "for x in range(2000, 3201):\r\n",
        "    if (x%7==0) and (x%5!=0):\r\n",
        "        nl.append(str(x))\r\n",
        "print (','.join(nl))"
      ],
      "execution_count": null,
      "outputs": [
        {
          "output_type": "stream",
          "text": [
            "2002,2009,2016,2023,2037,2044,2051,2058,2072,2079,2086,2093,2107,2114,2121,2128,2142,2149,2156,2163,2177,2184,2191,2198,2212,2219,2226,2233,2247,2254,2261,2268,2282,2289,2296,2303,2317,2324,2331,2338,2352,2359,2366,2373,2387,2394,2401,2408,2422,2429,2436,2443,2457,2464,2471,2478,2492,2499,2506,2513,2527,2534,2541,2548,2562,2569,2576,2583,2597,2604,2611,2618,2632,2639,2646,2653,2667,2674,2681,2688,2702,2709,2716,2723,2737,2744,2751,2758,2772,2779,2786,2793,2807,2814,2821,2828,2842,2849,2856,2863,2877,2884,2891,2898,2912,2919,2926,2933,2947,2954,2961,2968,2982,2989,2996,3003,3017,3024,3031,3038,3052,3059,3066,3073,3087,3094,3101,3108,3122,3129,3136,3143,3157,3164,3171,3178,3192,3199\n"
          ],
          "name": "stdout"
        }
      ]
    },
    {
      "cell_type": "code",
      "metadata": {
        "id": "KYSvIVwGhlxH"
      },
      "source": [
        "def check(L,B):\r\n",
        "  l=[]\r\n",
        "  for x in range (L,B):\r\n",
        "    if (x%7==0) and (x%5!=0):\r\n",
        "      l.append(str(x))\r\n",
        "  print (','.join(l))"
      ],
      "execution_count": null,
      "outputs": []
    },
    {
      "cell_type": "code",
      "metadata": {
        "colab": {
          "base_uri": "https://localhost:8080/"
        },
        "id": "AkgCaaDgkk0R",
        "outputId": "247d45cf-d036-4885-8be8-e9e4ae759c62"
      },
      "source": [
        "check(2000,3201)"
      ],
      "execution_count": null,
      "outputs": [
        {
          "output_type": "stream",
          "text": [
            "2002,2009,2016,2023,2037,2044,2051,2058,2072,2079,2086,2093,2107,2114,2121,2128,2142,2149,2156,2163,2177,2184,2191,2198,2212,2219,2226,2233,2247,2254,2261,2268,2282,2289,2296,2303,2317,2324,2331,2338,2352,2359,2366,2373,2387,2394,2401,2408,2422,2429,2436,2443,2457,2464,2471,2478,2492,2499,2506,2513,2527,2534,2541,2548,2562,2569,2576,2583,2597,2604,2611,2618,2632,2639,2646,2653,2667,2674,2681,2688,2702,2709,2716,2723,2737,2744,2751,2758,2772,2779,2786,2793,2807,2814,2821,2828,2842,2849,2856,2863,2877,2884,2891,2898,2912,2919,2926,2933,2947,2954,2961,2968,2982,2989,2996,3003,3017,3024,3031,3038,3052,3059,3066,3073,3087,3094,3101,3108,3122,3129,3136,3143,3157,3164,3171,3178,3192,3199\n"
          ],
          "name": "stdout"
        }
      ]
    },
    {
      "cell_type": "markdown",
      "metadata": {
        "id": "VYWwHdIIlBlI"
      },
      "source": [
        "2. Write a Python program to accept the user's first and last name and then getting them printed in the the reverse order with a space between first name and last name."
      ]
    },
    {
      "cell_type": "code",
      "metadata": {
        "colab": {
          "base_uri": "https://localhost:8080/"
        },
        "id": "4JWnMLKRlA6o",
        "outputId": "db86baa3-7e6a-441d-b9cc-cefd505a7993"
      },
      "source": [
        "fname = input(\"what is your first naame :  \")\r\n",
        "lname = input(\"what is your last name: \")\r\n",
        "name= fname+\" \"+lname\r\n",
        "print(\"your name is: \",name)\r\n",
        "words = name.split(' ')\r\n",
        "reverse_sentence = ' '.join(reversed(words))  \r\n",
        "print(\"reverse order: \",reverse_sentence)"
      ],
      "execution_count": null,
      "outputs": [
        {
          "output_type": "stream",
          "text": [
            "what is your first naame :  shashvindu \n",
            "what is your last name: jha\n",
            "your name is:  shashvindu  jha\n",
            "reverse order:  jha  shashvindu\n"
          ],
          "name": "stdout"
        }
      ]
    },
    {
      "cell_type": "markdown",
      "metadata": {
        "id": "c6iU9I5xooKI"
      },
      "source": [
        "Write a Python program to find the volume of a sphere with diameter 12 cm. Formula: V=4/3 * π * r 3"
      ]
    },
    {
      "cell_type": "code",
      "metadata": {
        "colab": {
          "base_uri": "https://localhost:8080/"
        },
        "id": "RUHY0WmloyIo",
        "outputId": "2386e886-2263-46bf-ac19-b71949e61045"
      },
      "source": [
        "import math\r\n",
        "D=int(input(\"Enter Diameter of Sphere in cm :\"))\r\n",
        "R=D/2\r\n",
        "V=4/3*math.pi*R**3\r\n",
        "print(\"volumn of Sphere is :\",V,\"cm^3\")"
      ],
      "execution_count": null,
      "outputs": [
        {
          "output_type": "stream",
          "text": [
            "Enter Diameter of Sphere 12\n",
            "volumn of Sphere is : 904.7786842338603 cm^3\n"
          ],
          "name": "stdout"
        }
      ]
    }
  ]
}