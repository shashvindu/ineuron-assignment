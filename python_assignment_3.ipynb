{
  "nbformat": 4,
  "nbformat_minor": 0,
  "metadata": {
    "colab": {
      "name": "python assignment 3.ipynb",
      "provenance": [],
      "mount_file_id": "1W_4OSqagq64upE0ZbZ1LJaP9b6JQF5qB",
      "authorship_tag": "ABX9TyPRijcbTr7VdiOTGXGb9YhI",
      "include_colab_link": true
    },
    "kernelspec": {
      "name": "python3",
      "display_name": "Python 3"
    }
  },
  "cells": [
    {
      "cell_type": "markdown",
      "metadata": {
        "id": "view-in-github",
        "colab_type": "text"
      },
      "source": [
        "<a href=\"https://colab.research.google.com/github/shashvindu/ineuron-assignment/blob/main/python_assignment_3.ipynb\" target=\"_parent\"><img src=\"https://colab.research.google.com/assets/colab-badge.svg\" alt=\"Open In Colab\"/></a>"
      ]
    },
    {
      "cell_type": "markdown",
      "metadata": {
        "id": "r4iYXdIO9uKb"
      },
      "source": [
        "1.1 Write a Python Program to implement your own myreduce() function which works exactly  like Python's built-in function reduce() \r\n"
      ]
    },
    {
      "cell_type": "code",
      "metadata": {
        "colab": {
          "base_uri": "https://localhost:8080/"
        },
        "id": "y56Cx8DBX40n",
        "outputId": "5db08bfd-58db-4c00-efd9-98637ddd5607"
      },
      "source": [
        ""
      ],
      "execution_count": 5,
      "outputs": [
        {
          "output_type": "execute_result",
          "data": {
            "text/plain": [
              "24"
            ]
          },
          "metadata": {
            "tags": []
          },
          "execution_count": 5
        }
      ]
    },
    {
      "cell_type": "code",
      "metadata": {
        "id": "PavTzR4F9TdO"
      },
      "source": [
        "# Reduce will produce a single result\r\n",
        "def myreduce(func, sequence):\r\n",
        "\r\n",
        " # Get first item in sequence and assign to result\r\n",
        "  result = sequence[0]\r\n",
        " # iterate over remaining items in sequence and apply reduction function \r\n",
        "  for item in sequence[1:]:\r\n",
        "   result = func(result, item)\r\n",
        "\r\n",
        "  return result"
      ],
      "execution_count": 4,
      "outputs": []
    },
    {
      "cell_type": "code",
      "metadata": {
        "colab": {
          "base_uri": "https://localhost:8080/"
        },
        "id": "zgEl_-GLZcs8",
        "outputId": "e41476cf-5299-49a3-a18c-bc92c3ff77b2"
      },
      "source": [
        "prod=myreduce((lambda x,y: x*y),mylist)\r\n",
        "prod"
      ],
      "execution_count": 6,
      "outputs": [
        {
          "output_type": "execute_result",
          "data": {
            "text/plain": [
              "24"
            ]
          },
          "metadata": {
            "tags": []
          },
          "execution_count": 6
        }
      ]
    },
    {
      "cell_type": "markdown",
      "metadata": {
        "id": "Zmwa2VHbaeV-"
      },
      "source": [
        "1.2 Write a Python program to implement your own myfilter() function which works exactly  like Python's built-in function filter()"
      ]
    },
    {
      "cell_type": "code",
      "metadata": {
        "id": "WVFLEFTEaY2t"
      },
      "source": [
        "# Custom filter function \r\n",
        "def myfilter(anyfunc, sequence):\r\n",
        "\r\n",
        " # Initialize empty list\r\n",
        " result = []\r\n",
        " # iterate over sequence of items in sequence and apply filter function\r\n",
        " for item in sequence:\r\n",
        "  if anyfunc(item):\r\n",
        "   result.append(item)\r\n",
        "\r\n",
        " # return funal output\r\n",
        " return result"
      ],
      "execution_count": 15,
      "outputs": []
    },
    {
      "cell_type": "code",
      "metadata": {
        "colab": {
          "base_uri": "https://localhost:8080/"
        },
        "id": "IfpUL9rAa347",
        "outputId": "84826ace-fda0-4970-8449-f60cfff5599b"
      },
      "source": [
        "x=(myfilter(lambda x:x%2==0,mylist))\r\n",
        "x\r\n"
      ],
      "execution_count": 16,
      "outputs": [
        {
          "output_type": "execute_result",
          "data": {
            "text/plain": [
              "[2, 4]"
            ]
          },
          "metadata": {
            "tags": []
          },
          "execution_count": 16
        }
      ]
    },
    {
      "cell_type": "markdown",
      "metadata": {
        "id": "2TpBI5a5ddvv"
      },
      "source": [
        "2. Implement List comprehensions to produce the following lists.  \r\n",
        "Write List comprehensions to produce the following Lists \r\n",
        "['A', 'C', 'A', 'D', 'G', 'I', ’L’, ‘ D’] \r\n",
        "['x', 'xx', 'xxx', 'xxxx', 'y', 'yy', 'yyy', 'yyyy', 'z', 'zz', 'zzz', 'zzzz']  \r\n",
        "['x', 'y', 'z', 'xx', 'yy', 'zz', 'xxx', 'yyy', 'zzz', 'xxxx', 'yyyy', 'zzzz']  \r\n",
        "[[2], [3], [4], [3], [4], [5], [4], [5], [6]] [[2, 3, 4, 5], [3, 4, 5, 6],  \r\n",
        "[4, 5, 6, 7], [5, 6, 7, 8]] \r\n"
      ]
    },
    {
      "cell_type": "code",
      "metadata": {
        "id": "PczKpDGwdjxY"
      },
      "source": [
        "\r\n",
        "#Section 1\r\n",
        "word=input(\"right a word  \")\r\n",
        "#list Comprehension\r\n",
        "output_list=[l.upper() for l in list(word)]\r\n",
        "print(\"Output:\")\r\n",
        "print(output_list)\r\n",
        "\r\n",
        "#Section 2\r\n",
        "\r\n",
        "word_2=[x*n for x in word for n in range(1,5) ]\r\n",
        "print(word_2)\r\n",
        "\r\n",
        "#Section 3\r\n",
        "word_3=[x*n for n in range(1,5) for x in word  ]\r\n",
        "print(word_3)\r\n",
        "\r\n",
        "#Section 4\r\n",
        "number=[2,3,4]\r\n",
        "number_1=[[x+n] for x in number for n in range(0,3)]\r\n",
        "print(number_1)\r\n",
        "\r\n",
        "#Section 5\r\n",
        "number_2=[2,3,4,5]\r\n",
        "number_3=[[x+n for n in range(0,4)] for x in number_2 ]\r\n",
        "print(number_3)\r\n",
        "\r\n",
        "#Section 6\r\n",
        "number_4=[1,2,3]\r\n",
        "number_5= [(b,a) for a in number_4 for b in number_4]\r\n",
        "print(number_5)"
      ],
      "execution_count": 17,
      "outputs": []
    }
  ]
}