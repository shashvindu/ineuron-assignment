{
  "nbformat": 4,
  "nbformat_minor": 0,
  "metadata": {
    "colab": {
      "name": "Python assignment 2.ipynb",
      "provenance": [],
      "authorship_tag": "ABX9TyOiFBzlGwaRHNZ/eQxNisrD",
      "include_colab_link": true
    },
    "kernelspec": {
      "name": "python3",
      "display_name": "Python 3"
    }
  },
  "cells": [
    {
      "cell_type": "markdown",
      "metadata": {
        "id": "view-in-github",
        "colab_type": "text"
      },
      "source": [
        "<a href=\"https://colab.research.google.com/github/shashvindu/ineuron-assignment/blob/main/Python_assignment_2.ipynb\" target=\"_parent\"><img src=\"https://colab.research.google.com/assets/colab-badge.svg\" alt=\"Open In Colab\"/></a>"
      ]
    },
    {
      "cell_type": "markdown",
      "metadata": {
        "id": "yyYdW7t5yL-B"
      },
      "source": [
        ""
      ]
    },
    {
      "cell_type": "code",
      "metadata": {
        "id": "7Uut1MgzMbOO"
      },
      "source": [
        "values = input(\"Input some comma seprated numbers : \")\r\n",
        "list = values.split(\",\")\r\n",
        "tuple = tuple(list)\r\n",
        "print('List : ',list)\r\n",
        "print('Tuple : ',tuple)"
      ],
      "execution_count": null,
      "outputs": []
    }
  ]
}